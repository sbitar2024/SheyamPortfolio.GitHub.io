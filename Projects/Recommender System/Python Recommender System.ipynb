{
 "cells": [
  {
   "cell_type": "markdown",
   "id": "f0738f44",
   "metadata": {},
   "source": [
    "### Sheyam Bitar\n",
    "\n",
    "Python: Recommender System\n",
    " "
   ]
  },
  {
   "cell_type": "code",
   "execution_count": 1,
   "id": "ba0c3f2e",
   "metadata": {},
   "outputs": [],
   "source": [
    "import pandas as pd\n",
    "from sklearn.feature_extraction.text import TfidfVectorizer\n",
    "from sklearn.metrics.pairwise import linear_kernel"
   ]
  },
  {
   "cell_type": "code",
   "execution_count": 2,
   "id": "c0fc980b",
   "metadata": {},
   "outputs": [],
   "source": [
    "#Load datasets\n",
    "movies = pd.read_csv('movies.csv')\n",
    "ratings = pd.read_csv('ratings.csv')\n",
    "tags = pd.read_csv('tags.csv')"
   ]
  },
  {
   "cell_type": "code",
   "execution_count": 3,
   "id": "31b58153",
   "metadata": {},
   "outputs": [],
   "source": [
    "#Merge datasets\n",
    "movie_ratings = pd.merge(movies, ratings, on='movieId')\n",
    "movie_tags = pd.merge(movies, tags, on='movieId')\n",
    "movie_data = pd.merge(movie_ratings, movie_tags, on=['movieId', 'userId'])"
   ]
  },
  {
   "cell_type": "code",
   "execution_count": 4,
   "id": "05f44600",
   "metadata": {},
   "outputs": [],
   "source": [
    "#Drop unnecessary columns\n",
    "movie_data = movie_data.drop(['userId', 'timestamp_x', 'timestamp_y'], axis=1)"
   ]
  },
  {
   "cell_type": "code",
   "execution_count": 5,
   "id": "52bba5c4",
   "metadata": {},
   "outputs": [],
   "source": [
    "#Drop duplicate rows\n",
    "movie_data = movie_data.drop_duplicates()"
   ]
  },
  {
   "cell_type": "code",
   "execution_count": 7,
   "id": "5ddbaa78",
   "metadata": {},
   "outputs": [
    {
     "name": "stdout",
     "output_type": "stream",
     "text": [
      "Index(['movieId', 'title_x', 'genres_x', 'rating', 'title_y', 'genres_y',\n",
      "       'tag'],\n",
      "      dtype='object')\n"
     ]
    }
   ],
   "source": [
    "print(movie_data.columns)"
   ]
  },
  {
   "cell_type": "code",
   "execution_count": 8,
   "id": "9ed7f65f",
   "metadata": {},
   "outputs": [],
   "source": [
    "#Concatenate movie features\n",
    "movie_data['features'] = movie_data['genres_x'] + ' ' + movie_data['tag']"
   ]
  },
  {
   "cell_type": "code",
   "execution_count": 10,
   "id": "81418f7e",
   "metadata": {},
   "outputs": [],
   "source": [
    "#Drop rows with missing values in 'features' column\n",
    "movie_data = movie_data.dropna(subset=['features'])"
   ]
  },
  {
   "cell_type": "code",
   "execution_count": 33,
   "id": "1abe50fb",
   "metadata": {},
   "outputs": [],
   "source": [
    "#due to memory, I have to sample data - I am getting \"memoryError\"\n",
    "#Sample a subset of the dataset\n",
    "sample_size = 30000  # Adjust the sample size as needed\n",
    "movie_data_sample = movie_data.sample(sample_size, random_state=42)"
   ]
  },
  {
   "cell_type": "code",
   "execution_count": 34,
   "id": "918fd6c9",
   "metadata": {},
   "outputs": [],
   "source": [
    "#TF-IDF Vectorization\n",
    "tfidf = TfidfVectorizer(stop_words='english')\n",
    "tfidf_matrix_sample = tfidf.fit_transform(movie_data_sample['features'])"
   ]
  },
  {
   "cell_type": "code",
   "execution_count": 35,
   "id": "d51ba7c8",
   "metadata": {},
   "outputs": [],
   "source": [
    "#Compute similarity matrix\n",
    "cosine_sim_sample = linear_kernel(tfidf_matrix_sample, tfidf_matrix_sample)"
   ]
  },
  {
   "cell_type": "code",
   "execution_count": 36,
   "id": "77c2f9d2",
   "metadata": {},
   "outputs": [
    {
     "name": "stdout",
     "output_type": "stream",
     "text": [
      "Index(['movieId', 'title_x', 'genres_x', 'rating', 'title_y', 'genres_y',\n",
      "       'tag', 'features'],\n",
      "      dtype='object')\n"
     ]
    }
   ],
   "source": [
    "print(movie_data_sample.columns)\n"
   ]
  },
  {
   "cell_type": "code",
   "execution_count": 37,
   "id": "84b1b8e4",
   "metadata": {},
   "outputs": [
    {
     "name": "stdout",
     "output_type": "stream",
     "text": [
      "Enter a movie you like: Showgirls\n",
      "Recommended movies for you:\n",
      "354541                     Kill Bill: Vol. 2 (2004)\n",
      "245035                   Requiem for a Dream (2000)\n",
      "799986                              I, Tonya (2017)\n",
      "158191        Last Temptation of Christ, The (1988)\n",
      "813703                                  Baal (1970)\n",
      "476621    Before the Devil Knows You're Dead (2007)\n",
      "525961                            Sin Nombre (2009)\n",
      "697737                              The Drop (2014)\n",
      "472342                      Eastern Promises (2007)\n",
      "576710                             Town, The (2010)\n",
      "Name: title_x, dtype: object\n"
     ]
    }
   ],
   "source": [
    "#Function to recommend movies based on input movie\n",
    "def recommend_movies(movie_title, cosine_sim=cosine_sim_sample):\n",
    "    # Case-insensitive matching of movie titles\n",
    "    movie_indices = movie_data_sample[movie_data_sample['title_x'].str.contains(movie_title, case=False)].index\n",
    "    \n",
    "    if len(movie_indices) == 0:\n",
    "        print(\"Sorry, no movie found. Please try again with a different title.\")\n",
    "        return\n",
    "    \n",
    "    idx = movie_indices[0]  # Take the first matching movie index\n",
    "    sim_scores = list(enumerate(cosine_sim[idx]))\n",
    "    sim_scores = sorted(sim_scores, key=lambda x: x[1], reverse=True)\n",
    "    sim_scores = sim_scores[1:11]\n",
    "    movie_indices = [i[0] for i in sim_scores]\n",
    "    return movie_data_sample['title_x'].iloc[movie_indices]\n",
    "\n",
    "# User input\n",
    "user_movie = input(\"Enter a movie you like: \")\n",
    "\n",
    "# Generate recommendations\n",
    "recommendations = recommend_movies(user_movie)\n",
    "\n",
    "# Display recommendations\n",
    "print(\"Recommended movies for you:\")\n",
    "print(recommendations)\n"
   ]
  },
  {
   "cell_type": "markdown",
   "id": "5173b89b",
   "metadata": {},
   "source": [
    "-------------------"
   ]
  },
  {
   "cell_type": "markdown",
   "id": "c99ff2c2",
   "metadata": {},
   "source": [
    "1. Introduction\n",
    "\n",
    "The objective of this project is to develop a movie recommender system using the MovieLens dataset. The recommender system allows users to input a movie they like and provides recommendations for other movies they might enjoy watching. In this write-up, we will explain the process of building the recommender system, including data preprocessing, feature engineering, and recommendation generation.\n",
    "\n"
   ]
  },
  {
   "cell_type": "markdown",
   "id": "1f8f8fe6",
   "metadata": {},
   "source": [
    "2. Data Preparation\n",
    "\n",
    "The MovieLens dataset consists of several CSV files containing information about movies, user ratings, and tags. We loaded the necessary datasets into a programming environment and performed data preprocessing steps such as merging datasets, handling missing values, and dropping duplicate rows to ensure data cleanliness and consistency."
   ]
  },
  {
   "cell_type": "markdown",
   "id": "2f4ab263",
   "metadata": {},
   "source": [
    "3. Feature Engineering\n",
    "\n",
    "To build the recommender system, we used a content-based filtering approach, which recommends movies based on their features such as genres and tags. We concatenated the genres and tags of each movie to create a combined feature vector that represents the content of the movie."
   ]
  },
  {
   "cell_type": "markdown",
   "id": "db8987c2",
   "metadata": {},
   "source": [
    "4. TF-IDF Vectorization\n",
    "\n",
    "We used the TF-IDF (Term Frequency-Inverse Document Frequency) vectorization technique to convert the text-based movie features into numerical vectors. TF-IDF assigns weights to words based on their frequency in a document relative to their frequency in the entire corpus. This process allowed us to represent each movie as a vector in a high-dimensional space."
   ]
  },
  {
   "cell_type": "markdown",
   "id": "1be1956b",
   "metadata": {},
   "source": [
    "5. Similarity Computation\n",
    "\n",
    "Next, we computed the cosine similarity between pairs of movies based on their TF-IDF vectors. Cosine similarity measures the cosine of the angle between two vectors and indicates the similarity between them. A higher cosine similarity value implies a greater similarity between two movies."
   ]
  },
  {
   "cell_type": "markdown",
   "id": "b5a584f8",
   "metadata": {},
   "source": [
    "6. Recommendation Generation\n",
    "\n",
    "To generate recommendations, we defined a function that takes a user's input movie and finds similar movies based on the cosine similarity scores. We used case-insensitive matching to find movies whose titles contain the input keyword. The function returns a list of recommended movies sorted by their similarity scores."
   ]
  },
  {
   "cell_type": "markdown",
   "id": "9086f651",
   "metadata": {},
   "source": [
    "7. User Interaction\n",
    "\n",
    "Finally, we allowed users to input a movie they like using the input() function in Python. The system then generates and displays recommendations for other movies based on the user's input."
   ]
  },
  {
   "cell_type": "code",
   "execution_count": null,
   "id": "5e11c46d",
   "metadata": {},
   "outputs": [],
   "source": []
  }
 ],
 "metadata": {
  "kernelspec": {
   "display_name": "Python 3 (ipykernel)",
   "language": "python",
   "name": "python3"
  },
  "language_info": {
   "codemirror_mode": {
    "name": "ipython",
    "version": 3
   },
   "file_extension": ".py",
   "mimetype": "text/x-python",
   "name": "python",
   "nbconvert_exporter": "python",
   "pygments_lexer": "ipython3",
   "version": "3.9.13"
  }
 },
 "nbformat": 4,
 "nbformat_minor": 5
}
